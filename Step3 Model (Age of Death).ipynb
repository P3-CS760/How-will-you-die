{
 "cells": [
  {
   "cell_type": "markdown",
   "id": "6a5b2285",
   "metadata": {},
   "source": [
    "# Age of Death"
   ]
  },
  {
   "cell_type": "markdown",
   "id": "2aebcee6",
   "metadata": {},
   "source": [
    "## Data Process"
   ]
  },
  {
   "cell_type": "code",
   "execution_count": 1,
   "id": "5df0fc09",
   "metadata": {},
   "outputs": [],
   "source": [
    "import numpy as np\n",
    "import pandas as pd\n",
    "from sklearn import preprocessing\n",
    "from sklearn.model_selection import train_test_split\n",
    "\n",
    "from sklearn.svm import SVC\n",
    "from sklearn.svm import LinearSVC\n",
    "\n",
    "from sklearn.neighbors import KNeighborsClassifier\n",
    "\n",
    "from sklearn.linear_model import LogisticRegression\n",
    "\n",
    "from sklearn.ensemble import VotingClassifier\n",
    "\n",
    "from sklearn.model_selection import cross_val_score\n",
    "\n",
    "RANDOM_STATE = 666666"
   ]
  },
  {
   "cell_type": "code",
   "execution_count": 2,
   "id": "516e658a",
   "metadata": {},
   "outputs": [],
   "source": [
    "# Import Data\n",
    "\n",
    "df = pd.read_csv('Data/outputData.csv', sep=',')\n",
    "df = df.dropna(subset = ['Age of Death'])\n",
    "X = df[['Gender', 'Occupation', 'Country', 'Birth Year']]\n",
    "Y = df['Age of Death']"
   ]
  },
  {
   "cell_type": "code",
   "execution_count": 3,
   "id": "15b23f32",
   "metadata": {},
   "outputs": [],
   "source": [
    "# LabelEncoder\n",
    "\n",
    "X_LE = np.zeros((len(X.T), len(X)))\n",
    "LE = preprocessing.LabelEncoder()\n",
    "for i in range(len(X.T)):\n",
    "    LE.fit(X.T.to_numpy()[i])\n",
    "    X_LE[i] = LE.transform(X.T.to_numpy()[i])\n",
    "X_LE = X_LE.T\n",
    "\n",
    "Y_np = Y.to_numpy()\n",
    "for i in range(10, 110, 5):\n",
    "    Y_np[np.where((Y_np >= i) & (Y_np < i+5))] = np.array([i for j in range(len(Y_np[np.where((Y_np >= i) & (Y_np < i+5))]))])\n",
    "Y_np[np.where(Y_np < 10)] = np.array([5 for j in range(len(Y_np[np.where(Y_np < 10)]))])\n",
    "Y_np[np.where(Y_np >= 115)] = np.array([115 for j in range(len(Y_np[np.where(Y_np >= 115)]))])"
   ]
  },
  {
   "cell_type": "code",
   "execution_count": 4,
   "id": "57ea452a",
   "metadata": {},
   "outputs": [],
   "source": [
    "# Standzardization\n",
    "\n",
    "X_S = np.zeros((len(X_LE.T), len(X_LE)))\n",
    "for i in range(len(X_LE.T)):\n",
    "    X_S[i] = (X_LE.T[i]-np.min(X_LE.T[i]))/(np.max(X_LE.T[i])-np.min(X_LE.T[i]))\n",
    "X_S = X_S.T"
   ]
  },
  {
   "cell_type": "code",
   "execution_count": 5,
   "id": "2af3e9c7",
   "metadata": {},
   "outputs": [],
   "source": [
    "# Create training and test data sets\n",
    "\n",
    "x = X_S\n",
    "y = Y_np.astype(int)\n",
    "x_train, x_test, y_train, y_test = train_test_split(x, y, test_size = 0.2, random_state = RANDOM_STATE)"
   ]
  },
  {
   "cell_type": "markdown",
   "id": "5278a91a",
   "metadata": {},
   "source": [
    "## Model"
   ]
  },
  {
   "cell_type": "markdown",
   "id": "e61e3f3b",
   "metadata": {},
   "source": [
    "### SVM"
   ]
  },
  {
   "cell_type": "code",
   "execution_count": 6,
   "id": "b10f8bda",
   "metadata": {},
   "outputs": [
    {
     "name": "stdout",
     "output_type": "stream",
     "text": [
      "CPU times: total: 1.05 s\n",
      "Wall time: 1.05 s\n"
     ]
    },
    {
     "data": {
      "text/plain": [
       "0.29712993376770236"
      ]
     },
     "execution_count": 6,
     "metadata": {},
     "output_type": "execute_result"
    }
   ],
   "source": [
    "# Fitting Linear SVC model\n",
    "\n",
    "svc_lin = LinearSVC(C = 100, dual = False)\n",
    "%time svc_lin.fit(x_train, y_train)\n",
    "\n",
    "# Return the mean accuracy on the given test data and labels.\n",
    "\n",
    "svc_lin.score(x_test, y_test)"
   ]
  },
  {
   "cell_type": "code",
   "execution_count": 7,
   "id": "f38b244e",
   "metadata": {},
   "outputs": [
    {
     "name": "stdout",
     "output_type": "stream",
     "text": [
      "CPU times: total: 1min 12s\n",
      "Wall time: 1min 11s\n"
     ]
    },
    {
     "data": {
      "text/plain": [
       "0.6145603360077541"
      ]
     },
     "execution_count": 7,
     "metadata": {},
     "output_type": "execute_result"
    }
   ],
   "source": [
    "# Fitting SVC (kernel='rbf') model\n",
    "\n",
    "svc_rbf = SVC(kernel =  \"rbf\", gamma = 2)\n",
    "%time svc_rbf.fit(x_train, y_train)\n",
    "\n",
    "# Return the mean accuracy on the given test data and labels.\n",
    "\n",
    "svc_rbf.score(x_test, y_test)"
   ]
  },
  {
   "cell_type": "code",
   "execution_count": 8,
   "id": "416c0322",
   "metadata": {},
   "outputs": [
    {
     "name": "stdout",
     "output_type": "stream",
     "text": [
      "CPU times: total: 6min 42s\n",
      "Wall time: 6min 42s\n"
     ]
    },
    {
     "data": {
      "text/plain": [
       "0.618383501157719"
      ]
     },
     "execution_count": 8,
     "metadata": {},
     "output_type": "execute_result"
    }
   ],
   "source": [
    "# Fitting SVC (kernel=\"poly\") model\n",
    "\n",
    "svc_poly = SVC(kernel = \"poly\", C = 100, degree = 2)\n",
    "%time svc_poly.fit(x_train, y_train)\n",
    "\n",
    "# Return the mean accuracy on the given test data and labels.\n",
    "\n",
    "svc_poly.score(x_test, y_test)"
   ]
  },
  {
   "cell_type": "markdown",
   "id": "2c3f19e4",
   "metadata": {},
   "source": [
    "### KNN"
   ]
  },
  {
   "cell_type": "code",
   "execution_count": 9,
   "id": "c4241b56",
   "metadata": {},
   "outputs": [
    {
     "name": "stdout",
     "output_type": "stream",
     "text": [
      "CPU times: total: 93.8 ms\n",
      "Wall time: 93 ms\n"
     ]
    },
    {
     "data": {
      "text/plain": [
       "0.5489203597006085"
      ]
     },
     "execution_count": 9,
     "metadata": {},
     "output_type": "execute_result"
    }
   ],
   "source": [
    "# Fitting KNN model\n",
    "\n",
    "kNN_classifier = KNeighborsClassifier(n_neighbors  = 100)\n",
    "%time kNN_classifier.fit(x_train, y_train)\n",
    "\n",
    "# Return the mean accuracy on the given test data and labels.\n",
    "\n",
    "kNN_classifier.score(x_test, y_test)"
   ]
  },
  {
   "cell_type": "markdown",
   "id": "c28acb40",
   "metadata": {},
   "source": [
    "### Logistic Regression"
   ]
  },
  {
   "cell_type": "code",
   "execution_count": 10,
   "id": "123b86d2",
   "metadata": {},
   "outputs": [
    {
     "name": "stdout",
     "output_type": "stream",
     "text": [
      "CPU times: total: 3min 51s\n",
      "Wall time: 28.9 s\n"
     ]
    },
    {
     "data": {
      "text/plain": [
       "0.5023423617468096"
      ]
     },
     "execution_count": 10,
     "metadata": {},
     "output_type": "execute_result"
    }
   ],
   "source": [
    "# Fitting Logistic Regression model\n",
    "\n",
    "log_reg = LogisticRegression(solver = 'lbfgs', max_iter = 1e6)\n",
    "%time log_reg.fit(x_train, y_train)\n",
    "\n",
    "# Return the mean accuracy on the given test data and labels.\n",
    "\n",
    "log_reg.score(x_test, y_test)"
   ]
  },
  {
   "cell_type": "markdown",
   "id": "f531e240",
   "metadata": {},
   "source": [
    "### Voting Classifier"
   ]
  },
  {
   "cell_type": "code",
   "execution_count": 11,
   "id": "dda4098f",
   "metadata": {},
   "outputs": [
    {
     "name": "stdout",
     "output_type": "stream",
     "text": [
      "CPU times: total: 11min 45s\n",
      "Wall time: 8min 21s\n"
     ]
    },
    {
     "data": {
      "text/plain": [
       "0.6111141026331377"
      ]
     },
     "execution_count": 11,
     "metadata": {},
     "output_type": "execute_result"
    }
   ],
   "source": [
    "# Fitting Hard Voting Classifier model\n",
    "\n",
    "hard_voting_clf = VotingClassifier(estimators=[\n",
    "    ('svc_lin', LinearSVC(C = 100, dual = False)),\n",
    "    ('svc_rbf', SVC(kernel =  \"rbf\", gamma = 2)),\n",
    "    ('svc_poly', SVC(kernel = \"poly\", C = 100, degree = 2)),\n",
    "    ('knn_clf', KNeighborsClassifier(n_neighbors  = 100)),\n",
    "    ('log_reg', LogisticRegression(solver = 'lbfgs', max_iter = 1e6))],\n",
    "                             voting='hard')\n",
    "\n",
    "# Return the mean accuracy on the given test data and labels.\n",
    "\n",
    "%time hard_voting_clf.fit(x_train, y_train)\n",
    "hard_voting_clf.score(x_test, y_test)"
   ]
  },
  {
   "cell_type": "markdown",
   "id": "97297b6b",
   "metadata": {},
   "source": [
    "## Cross Validation"
   ]
  },
  {
   "cell_type": "code",
   "execution_count": 12,
   "id": "be377911",
   "metadata": {},
   "outputs": [
    {
     "name": "stdout",
     "output_type": "stream",
     "text": [
      "CPU times: total: 8.27 s\n",
      "Wall time: 3.13 s\n",
      "CPU times: total: 12min 33s\n",
      "Wall time: 12min 31s\n",
      "CPU times: total: 27min 3s\n",
      "Wall time: 27min 3s\n",
      "CPU times: total: 5.2 s\n",
      "Wall time: 5.2 s\n",
      "CPU times: total: 13min 13s\n",
      "Wall time: 1min 39s\n",
      "CPU times: total: 55min 15s\n",
      "Wall time: 42min 46s\n"
     ]
    }
   ],
   "source": [
    "%time scores_svc_lin = cross_val_score(svc_lin, x, y, cv = 4)\n",
    "scores_svc_lin_mean = scores_svc_lin.mean()\n",
    "%time scores_svc_rbf = cross_val_score(svc_rbf, x, y, cv = 4)\n",
    "scores_svc_rbf_mean = scores_svc_rbf.mean()\n",
    "%time scores_svc_poly = cross_val_score(svc_poly, x, y, cv = 4)\n",
    "scores_svc_poly_mean = scores_svc_poly.mean()\n",
    "%time scores_kNN = cross_val_score(kNN_classifier, x, y, cv = 4)\n",
    "scores_kNN_mean = scores_kNN.mean()\n",
    "%time scores_log_reg = cross_val_score(log_reg, x, y, cv = 4)\n",
    "scores_log_reg_mean = scores_log_reg.mean()\n",
    "%time scores_hard_voting_clf = cross_val_score(hard_voting_clf, x, y, cv = 4)\n",
    "scores_hard_voting_clf_mean = scores_hard_voting_clf.mean()"
   ]
  },
  {
   "cell_type": "code",
   "execution_count": 14,
   "id": "e8214cf7",
   "metadata": {},
   "outputs": [
    {
     "name": "stdout",
     "output_type": "stream",
     "text": [
      "0.2962575497955076\n",
      "0.6007432480754578\n",
      "0.6057833569646002\n",
      "0.5315489688317692\n",
      "0.4978620213453875\n",
      "0.5964892642015793\n"
     ]
    }
   ],
   "source": [
    "print(scores_svc_lin_mean)\n",
    "print(scores_svc_rbf_mean)\n",
    "print(scores_svc_poly_mean)\n",
    "print(scores_kNN_mean)\n",
    "print(scores_log_reg_mean)\n",
    "print(scores_hard_voting_clf_mean)"
   ]
  }
 ],
 "metadata": {
  "kernelspec": {
   "display_name": "Python 3 (ipykernel)",
   "language": "python",
   "name": "python3"
  },
  "language_info": {
   "codemirror_mode": {
    "name": "ipython",
    "version": 3
   },
   "file_extension": ".py",
   "mimetype": "text/x-python",
   "name": "python",
   "nbconvert_exporter": "python",
   "pygments_lexer": "ipython3",
   "version": "3.9.7"
  }
 },
 "nbformat": 4,
 "nbformat_minor": 5
}
