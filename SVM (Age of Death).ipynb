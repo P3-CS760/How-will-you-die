{
 "cells": [
  {
   "cell_type": "markdown",
   "id": "6a5b2285",
   "metadata": {},
   "source": [
    "# Age of Death"
   ]
  },
  {
   "cell_type": "markdown",
   "id": "2aebcee6",
   "metadata": {},
   "source": [
    "## Data Process"
   ]
  },
  {
   "cell_type": "code",
   "execution_count": 1,
   "id": "5df0fc09",
   "metadata": {},
   "outputs": [],
   "source": [
    "import time\n",
    "\n",
    "import numpy as np\n",
    "import pandas as pd\n",
    "from sklearn import preprocessing\n",
    "from sklearn.model_selection import train_test_split\n",
    "\n",
    "from sklearn import svm\n",
    "from sklearn.neighbors import KNeighborsClassifier\n",
    "from sklearn.linear_model import LogisticRegression\n",
    "from sklearn.model_selection import cross_val_score\n",
    "\n",
    "import matplotlib.pyplot as plt\n",
    "\n",
    "RANDOM_STATE = 666666"
   ]
  },
  {
   "cell_type": "code",
   "execution_count": 2,
   "id": "516e658a",
   "metadata": {},
   "outputs": [],
   "source": [
    "# Import Data\n",
    "\n",
    "df = pd.read_csv('Data/outputData.csv', sep=',')\n",
    "df = df.dropna(subset = ['Age of Death'])\n",
    "X = df[['Gender', 'Occupation', 'Country', 'Birth Year']]\n",
    "Y = df['Age of Death']"
   ]
  },
  {
   "cell_type": "code",
   "execution_count": 3,
   "id": "15b23f32",
   "metadata": {},
   "outputs": [],
   "source": [
    "# LabelEncoder\n",
    "\n",
    "X_LE = np.zeros((len(X.T), len(X)))\n",
    "LE = preprocessing.LabelEncoder()\n",
    "for i in range(len(X.T)):\n",
    "    LE.fit(X.T.to_numpy()[i])\n",
    "    X_LE[i] = LE.transform(X.T.to_numpy()[i])\n",
    "X_LE = X_LE.T\n",
    "\n",
    "Y_np = Y.to_numpy()\n",
    "for i in range(10, 110, 5):\n",
    "    Y_np[np.where((Y_np >= i) & (Y_np < i+5))] = np.array([i for j in range(len(Y_np[np.where((Y_np >= i) & (Y_np < i+5))]))])\n",
    "Y_np[np.where(Y_np < 10)] = np.array([5 for j in range(len(Y_np[np.where(Y_np < 10)]))])\n",
    "Y_np[np.where(Y_np >= 115)] = np.array([115 for j in range(len(Y_np[np.where(Y_np >= 115)]))])"
   ]
  },
  {
   "cell_type": "code",
   "execution_count": 4,
   "id": "57ea452a",
   "metadata": {},
   "outputs": [],
   "source": [
    "# Standzardization\n",
    "\n",
    "X_S = np.zeros((len(X_LE.T), len(X_LE)))\n",
    "for i in range(len(X_LE.T)):\n",
    "    X_S[i] = (X_LE.T[i]-np.min(X_LE.T[i]))/(np.max(X_LE.T[i])-np.min(X_LE.T[i]))\n",
    "X_S = X_S.T"
   ]
  },
  {
   "cell_type": "code",
   "execution_count": 5,
   "id": "2af3e9c7",
   "metadata": {},
   "outputs": [],
   "source": [
    "# Create training and test data sets\n",
    "\n",
    "x = X_S\n",
    "y = Y_np.astype(int)\n",
    "x_train, x_test, y_train, y_test = train_test_split(x, y, test_size = 0.2, random_state = RANDOM_STATE)"
   ]
  },
  {
   "cell_type": "markdown",
   "id": "e61e3f3b",
   "metadata": {},
   "source": [
    "## SVM"
   ]
  },
  {
   "cell_type": "code",
   "execution_count": 6,
   "id": "48fb6d43",
   "metadata": {
    "scrolled": true
   },
   "outputs": [
    {
     "name": "stdout",
     "output_type": "stream",
     "text": [
      "Loop 1 :\n",
      "CPU times: user 1.42 s, sys: 22.9 ms, total: 1.44 s\n",
      "Wall time: 1.47 s\n",
      "CPU times: user 107 ms, sys: 24.7 ms, total: 131 ms\n",
      "Wall time: 35.8 ms\n",
      "CPU times: user 21.7 ms, sys: 2.45 ms, total: 24.1 ms\n",
      "Wall time: 5.99 ms\n",
      "Loop 2 :\n",
      "CPU times: user 1.95 s, sys: 32.9 ms, total: 1.99 s\n",
      "Wall time: 1.46 s\n",
      "CPU times: user 78.5 ms, sys: 22.3 ms, total: 101 ms\n",
      "Wall time: 27.6 ms\n",
      "CPU times: user 20.7 ms, sys: 2.62 ms, total: 23.3 ms\n",
      "Wall time: 5.81 ms\n",
      "Loop 3 :\n",
      "CPU times: user 1.94 s, sys: 29.4 ms, total: 1.97 s\n",
      "Wall time: 1.42 s\n",
      "CPU times: user 76 ms, sys: 19.4 ms, total: 95.3 ms\n",
      "Wall time: 24.5 ms\n",
      "CPU times: user 21.1 ms, sys: 2.41 ms, total: 23.5 ms\n",
      "Wall time: 5.84 ms\n",
      "Loop 4 :\n",
      "CPU times: user 2.03 s, sys: 37.7 ms, total: 2.07 s\n",
      "Wall time: 1.58 s\n",
      "CPU times: user 81.2 ms, sys: 24 ms, total: 105 ms\n",
      "Wall time: 29.2 ms\n",
      "CPU times: user 24.2 ms, sys: 3.2 ms, total: 27.4 ms\n",
      "Wall time: 6.93 ms\n",
      "Loop 5 :\n",
      "CPU times: user 1.96 s, sys: 34.2 ms, total: 1.99 s\n",
      "Wall time: 1.45 s\n",
      "CPU times: user 80.8 ms, sys: 22.9 ms, total: 104 ms\n",
      "Wall time: 27.4 ms\n",
      "CPU times: user 21.5 ms, sys: 2.72 ms, total: 24.3 ms\n",
      "Wall time: 6.06 ms\n",
      "Loop 6 :\n",
      "CPU times: user 2.02 s, sys: 48.4 ms, total: 2.07 s\n",
      "Wall time: 1.55 s\n",
      "CPU times: user 74.5 ms, sys: 21.7 ms, total: 96.3 ms\n",
      "Wall time: 24.9 ms\n",
      "CPU times: user 21.1 ms, sys: 2.44 ms, total: 23.5 ms\n",
      "Wall time: 5.87 ms\n",
      "Loop 7 :\n",
      "CPU times: user 2.03 s, sys: 47.8 ms, total: 2.08 s\n",
      "Wall time: 1.55 s\n",
      "CPU times: user 80.2 ms, sys: 23.9 ms, total: 104 ms\n",
      "Wall time: 28.7 ms\n",
      "CPU times: user 22.5 ms, sys: 3.45 ms, total: 25.9 ms\n",
      "Wall time: 6.67 ms\n",
      "Loop 8 :\n",
      "CPU times: user 2.02 s, sys: 52.4 ms, total: 2.07 s\n",
      "Wall time: 1.57 s\n",
      "CPU times: user 79.6 ms, sys: 24.7 ms, total: 104 ms\n",
      "Wall time: 28.2 ms\n",
      "CPU times: user 22 ms, sys: 2.94 ms, total: 24.9 ms\n",
      "Wall time: 6.24 ms\n",
      "Loop 9 :\n",
      "CPU times: user 2.03 s, sys: 36.2 ms, total: 2.07 s\n",
      "Wall time: 1.53 s\n",
      "CPU times: user 80.2 ms, sys: 20.2 ms, total: 100 ms\n",
      "Wall time: 26 ms\n",
      "CPU times: user 21.6 ms, sys: 2.68 ms, total: 24.3 ms\n",
      "Wall time: 6.26 ms\n",
      "Loop 10 :\n",
      "CPU times: user 2 s, sys: 25.1 ms, total: 2.02 s\n",
      "Wall time: 1.47 s\n",
      "CPU times: user 80.8 ms, sys: 20.5 ms, total: 101 ms\n",
      "Wall time: 26.3 ms\n",
      "CPU times: user 21.3 ms, sys: 2.28 ms, total: 23.5 ms\n",
      "Wall time: 5.86 ms\n",
      "Loop 11 :\n",
      "CPU times: user 2.05 s, sys: 25 ms, total: 2.08 s\n",
      "Wall time: 1.52 s\n",
      "CPU times: user 79.4 ms, sys: 19 ms, total: 98.4 ms\n",
      "Wall time: 25.4 ms\n",
      "CPU times: user 21.4 ms, sys: 2.69 ms, total: 24.1 ms\n",
      "Wall time: 6.1 ms\n",
      "Loop 12 :\n",
      "CPU times: user 2.07 s, sys: 25 ms, total: 2.1 s\n",
      "Wall time: 1.55 s\n",
      "CPU times: user 80.4 ms, sys: 20.4 ms, total: 101 ms\n",
      "Wall time: 26 ms\n",
      "CPU times: user 21.6 ms, sys: 2.43 ms, total: 24 ms\n",
      "Wall time: 5.99 ms\n",
      "Loop 13 :\n",
      "CPU times: user 2.15 s, sys: 24.5 ms, total: 2.17 s\n",
      "Wall time: 1.62 s\n",
      "CPU times: user 80.7 ms, sys: 19.7 ms, total: 100 ms\n",
      "Wall time: 26 ms\n",
      "CPU times: user 20.7 ms, sys: 2.32 ms, total: 23 ms\n",
      "Wall time: 5.76 ms\n",
      "Loop 14 :\n",
      "CPU times: user 2.19 s, sys: 26.1 ms, total: 2.22 s\n",
      "Wall time: 1.67 s\n",
      "CPU times: user 77.9 ms, sys: 19.3 ms, total: 97.2 ms\n",
      "Wall time: 25.2 ms\n",
      "CPU times: user 21.8 ms, sys: 2.77 ms, total: 24.5 ms\n",
      "Wall time: 6.16 ms\n",
      "Loop 15 :\n",
      "CPU times: user 2.3 s, sys: 28.1 ms, total: 2.33 s\n",
      "Wall time: 1.78 s\n",
      "CPU times: user 80.1 ms, sys: 20.9 ms, total: 101 ms\n",
      "Wall time: 26.2 ms\n",
      "CPU times: user 20.4 ms, sys: 2.5 ms, total: 22.9 ms\n",
      "Wall time: 5.78 ms\n",
      "Loop 16 :\n",
      "CPU times: user 2.35 s, sys: 27.8 ms, total: 2.37 s\n",
      "Wall time: 1.82 s\n",
      "CPU times: user 78.4 ms, sys: 19.1 ms, total: 97.5 ms\n",
      "Wall time: 25.1 ms\n",
      "CPU times: user 22.6 ms, sys: 2.73 ms, total: 25.3 ms\n",
      "Wall time: 6.35 ms\n",
      "Loop 17 :\n",
      "CPU times: user 2.47 s, sys: 27.1 ms, total: 2.5 s\n",
      "Wall time: 1.95 s\n",
      "CPU times: user 81 ms, sys: 20.3 ms, total: 101 ms\n",
      "Wall time: 26.3 ms\n",
      "CPU times: user 20.4 ms, sys: 2.29 ms, total: 22.7 ms\n",
      "Wall time: 5.66 ms\n",
      "Loop 18 :\n",
      "CPU times: user 2.54 s, sys: 27.4 ms, total: 2.57 s\n",
      "Wall time: 2.01 s\n",
      "CPU times: user 77.7 ms, sys: 20.6 ms, total: 98.4 ms\n",
      "Wall time: 25.6 ms\n",
      "CPU times: user 20.6 ms, sys: 2.8 ms, total: 23.4 ms\n",
      "Wall time: 5.89 ms\n",
      "Loop 19 :\n",
      "CPU times: user 2.64 s, sys: 39.2 ms, total: 2.68 s\n",
      "Wall time: 2.15 s\n",
      "CPU times: user 74 ms, sys: 20.4 ms, total: 94.4 ms\n",
      "Wall time: 24.7 ms\n",
      "CPU times: user 20.6 ms, sys: 2.41 ms, total: 23 ms\n",
      "Wall time: 5.75 ms\n",
      "Loop 20 :\n",
      "CPU times: user 2.82 s, sys: 38.4 ms, total: 2.86 s\n",
      "Wall time: 2.32 s\n",
      "CPU times: user 80.1 ms, sys: 20.3 ms, total: 100 ms\n",
      "Wall time: 25.8 ms\n",
      "CPU times: user 19.6 ms, sys: 2.2 ms, total: 21.8 ms\n",
      "Wall time: 5.43 ms\n",
      "Loop 21 :\n",
      "CPU times: user 2.95 s, sys: 30.8 ms, total: 2.98 s\n",
      "Wall time: 2.44 s\n",
      "CPU times: user 79.7 ms, sys: 19.6 ms, total: 99.3 ms\n",
      "Wall time: 25.8 ms\n",
      "CPU times: user 22 ms, sys: 2.88 ms, total: 24.8 ms\n",
      "Wall time: 6.28 ms\n",
      "Loop 22 :\n",
      "CPU times: user 3.15 s, sys: 35.3 ms, total: 3.19 s\n",
      "Wall time: 2.66 s\n",
      "CPU times: user 85.1 ms, sys: 22.8 ms, total: 108 ms\n",
      "Wall time: 28.2 ms\n",
      "CPU times: user 21.1 ms, sys: 2.45 ms, total: 23.5 ms\n",
      "Wall time: 5.89 ms\n",
      "Loop 23 :\n",
      "CPU times: user 3.36 s, sys: 44 ms, total: 3.4 s\n",
      "Wall time: 2.88 s\n",
      "CPU times: user 74 ms, sys: 19.5 ms, total: 93.5 ms\n",
      "Wall time: 24.4 ms\n",
      "CPU times: user 20.6 ms, sys: 2.38 ms, total: 23 ms\n",
      "Wall time: 5.76 ms\n",
      "Loop 24 :\n",
      "CPU times: user 3.52 s, sys: 35.2 ms, total: 3.55 s\n",
      "Wall time: 3.01 s\n",
      "CPU times: user 77.1 ms, sys: 20.2 ms, total: 97.4 ms\n",
      "Wall time: 25.3 ms\n",
      "CPU times: user 20.5 ms, sys: 2.45 ms, total: 22.9 ms\n",
      "Wall time: 5.7 ms\n",
      "Loop 25 :\n",
      "CPU times: user 3.82 s, sys: 55 ms, total: 3.87 s\n",
      "Wall time: 3.35 s\n",
      "CPU times: user 75.2 ms, sys: 20.4 ms, total: 95.6 ms\n",
      "Wall time: 24.7 ms\n",
      "CPU times: user 20.7 ms, sys: 2.67 ms, total: 23.4 ms\n",
      "Wall time: 5.86 ms\n",
      "Loop 26 :\n",
      "CPU times: user 4.1 s, sys: 51.8 ms, total: 4.15 s\n",
      "Wall time: 3.63 s\n",
      "CPU times: user 75.4 ms, sys: 20 ms, total: 95.3 ms\n",
      "Wall time: 24.6 ms\n",
      "CPU times: user 20.5 ms, sys: 3.44 ms, total: 24 ms\n",
      "Wall time: 6.59 ms\n",
      "Loop 27 :\n",
      "CPU times: user 4.48 s, sys: 58.6 ms, total: 4.54 s\n",
      "Wall time: 4.03 s\n",
      "CPU times: user 77.9 ms, sys: 19.3 ms, total: 97.2 ms\n",
      "Wall time: 25.1 ms\n",
      "CPU times: user 21 ms, sys: 2.32 ms, total: 23.3 ms\n",
      "Wall time: 5.77 ms\n",
      "Loop 28 :\n",
      "CPU times: user 4.71 s, sys: 39.9 ms, total: 4.75 s\n",
      "Wall time: 4.21 s\n",
      "CPU times: user 79.6 ms, sys: 20.5 ms, total: 100 ms\n",
      "Wall time: 26.1 ms\n",
      "CPU times: user 19.2 ms, sys: 2.05 ms, total: 21.3 ms\n",
      "Wall time: 5.24 ms\n",
      "Loop 29 :\n",
      "CPU times: user 5.19 s, sys: 46.4 ms, total: 5.24 s\n",
      "Wall time: 4.71 s\n",
      "CPU times: user 79.5 ms, sys: 19.9 ms, total: 99.4 ms\n",
      "Wall time: 25.7 ms\n",
      "CPU times: user 21 ms, sys: 2.44 ms, total: 23.4 ms\n",
      "Wall time: 5.79 ms\n",
      "Loop 30 :\n",
      "CPU times: user 5.92 s, sys: 81.4 ms, total: 6 s\n",
      "Wall time: 5.7 s\n",
      "CPU times: user 75.7 ms, sys: 20.7 ms, total: 96.5 ms\n",
      "Wall time: 26.4 ms\n",
      "CPU times: user 21.6 ms, sys: 3.17 ms, total: 24.8 ms\n",
      "Wall time: 6.62 ms\n",
      "Loop 31 :\n",
      "CPU times: user 6.47 s, sys: 105 ms, total: 6.57 s\n",
      "Wall time: 6.27 s\n",
      "CPU times: user 82.9 ms, sys: 20.8 ms, total: 104 ms\n",
      "Wall time: 27.2 ms\n",
      "CPU times: user 20 ms, sys: 2.88 ms, total: 22.9 ms\n",
      "Wall time: 6.48 ms\n",
      "Loop 32 :\n",
      "CPU times: user 7.36 s, sys: 138 ms, total: 7.5 s\n",
      "Wall time: 7.35 s\n",
      "CPU times: user 76.6 ms, sys: 21 ms, total: 97.6 ms\n",
      "Wall time: 26.7 ms\n",
      "CPU times: user 21.2 ms, sys: 2.94 ms, total: 24.1 ms\n",
      "Wall time: 6.43 ms\n",
      "Loop 33 :\n",
      "CPU times: user 8.09 s, sys: 157 ms, total: 8.25 s\n",
      "Wall time: 8.05 s\n",
      "CPU times: user 81.2 ms, sys: 23 ms, total: 104 ms\n",
      "Wall time: 27.4 ms\n",
      "CPU times: user 23.2 ms, sys: 2.93 ms, total: 26.2 ms\n",
      "Wall time: 6.58 ms\n",
      "Loop 34 :\n",
      "CPU times: user 8.79 s, sys: 106 ms, total: 8.9 s\n",
      "Wall time: 8.51 s\n",
      "CPU times: user 79.7 ms, sys: 20.7 ms, total: 100 ms\n",
      "Wall time: 26.2 ms\n",
      "CPU times: user 21.1 ms, sys: 2.46 ms, total: 23.6 ms\n",
      "Wall time: 5.92 ms\n",
      "Loop 35 :\n",
      "CPU times: user 9.82 s, sys: 123 ms, total: 9.94 s\n",
      "Wall time: 9.51 s\n",
      "CPU times: user 85.9 ms, sys: 22.8 ms, total: 109 ms\n",
      "Wall time: 28.7 ms\n",
      "CPU times: user 21.6 ms, sys: 2.48 ms, total: 24.1 ms\n",
      "Wall time: 6.04 ms\n",
      "Loop 36 :\n",
      "CPU times: user 11 s, sys: 136 ms, total: 11.1 s\n",
      "Wall time: 10.9 s\n",
      "CPU times: user 76.2 ms, sys: 18.7 ms, total: 94.9 ms\n",
      "Wall time: 24.8 ms\n",
      "CPU times: user 22.1 ms, sys: 2.44 ms, total: 24.5 ms\n",
      "Wall time: 6.08 ms\n",
      "Loop 37 :\n",
      "CPU times: user 11.7 s, sys: 82.4 ms, total: 11.8 s\n",
      "Wall time: 11.3 s\n",
      "CPU times: user 76.8 ms, sys: 19.9 ms, total: 96.7 ms\n",
      "Wall time: 25.1 ms\n",
      "CPU times: user 21.7 ms, sys: 2.37 ms, total: 24.1 ms\n",
      "Wall time: 6 ms\n",
      "Loop 38 :\n"
     ]
    },
    {
     "name": "stdout",
     "output_type": "stream",
     "text": [
      "CPU times: user 13.1 s, sys: 93.6 ms, total: 13.2 s\n",
      "Wall time: 12.7 s\n",
      "CPU times: user 85.4 ms, sys: 22.6 ms, total: 108 ms\n",
      "Wall time: 28.3 ms\n",
      "CPU times: user 24.7 ms, sys: 3.4 ms, total: 28.1 ms\n",
      "Wall time: 7.69 ms\n",
      "Loop 39 :\n",
      "CPU times: user 15.5 s, sys: 156 ms, total: 15.6 s\n",
      "Wall time: 15.3 s\n",
      "CPU times: user 76.9 ms, sys: 19.7 ms, total: 96.7 ms\n",
      "Wall time: 25.1 ms\n",
      "CPU times: user 20.4 ms, sys: 2.28 ms, total: 22.7 ms\n",
      "Wall time: 5.62 ms\n",
      "Loop 40 :\n",
      "CPU times: user 19.9 s, sys: 178 ms, total: 20 s\n",
      "Wall time: 19.7 s\n",
      "CPU times: user 83.9 ms, sys: 20.5 ms, total: 104 ms\n",
      "Wall time: 27.2 ms\n",
      "CPU times: user 20.5 ms, sys: 2.3 ms, total: 22.8 ms\n",
      "Wall time: 5.66 ms\n",
      "Loop 41 :\n",
      "CPU times: user 20.9 s, sys: 148 ms, total: 21.1 s\n",
      "Wall time: 20.7 s\n",
      "CPU times: user 74.6 ms, sys: 19.4 ms, total: 94 ms\n",
      "Wall time: 24.6 ms\n",
      "CPU times: user 20.9 ms, sys: 2.67 ms, total: 23.5 ms\n",
      "Wall time: 6.01 ms\n",
      "Loop 42 :\n",
      "CPU times: user 30.1 s, sys: 371 ms, total: 30.5 s\n",
      "Wall time: 30.9 s\n",
      "CPU times: user 81.6 ms, sys: 20 ms, total: 102 ms\n",
      "Wall time: 26.3 ms\n",
      "CPU times: user 20.3 ms, sys: 2.24 ms, total: 22.5 ms\n",
      "Wall time: 5.63 ms\n",
      "Loop 43 :\n",
      "CPU times: user 25.8 s, sys: 332 ms, total: 26.2 s\n",
      "Wall time: 26.2 s\n",
      "CPU times: user 78.5 ms, sys: 21.1 ms, total: 99.5 ms\n",
      "Wall time: 26.2 ms\n",
      "CPU times: user 21.9 ms, sys: 2.82 ms, total: 24.7 ms\n",
      "Wall time: 6.22 ms\n",
      "Loop 44 :\n",
      "CPU times: user 34.2 s, sys: 320 ms, total: 34.5 s\n",
      "Wall time: 34.4 s\n",
      "CPU times: user 78.3 ms, sys: 21.1 ms, total: 99.4 ms\n",
      "Wall time: 27.7 ms\n",
      "CPU times: user 20.9 ms, sys: 2.61 ms, total: 23.5 ms\n",
      "Wall time: 5.94 ms\n",
      "Loop 45 :\n",
      "CPU times: user 43.4 s, sys: 523 ms, total: 43.9 s\n",
      "Wall time: 44.3 s\n",
      "CPU times: user 76.1 ms, sys: 20.8 ms, total: 96.9 ms\n",
      "Wall time: 26 ms\n",
      "CPU times: user 22.1 ms, sys: 2.85 ms, total: 25 ms\n",
      "Wall time: 6.29 ms\n",
      "Loop 46 :\n",
      "CPU times: user 47.8 s, sys: 500 ms, total: 48.3 s\n",
      "Wall time: 48.8 s\n",
      "CPU times: user 71.2 ms, sys: 18.9 ms, total: 90 ms\n",
      "Wall time: 23.1 ms\n",
      "CPU times: user 20.7 ms, sys: 2.22 ms, total: 22.9 ms\n",
      "Wall time: 5.68 ms\n",
      "Loop 47 :\n"
     ]
    },
    {
     "name": "stderr",
     "output_type": "stream",
     "text": [
      "/opt/anaconda3/lib/python3.9/site-packages/sklearn/svm/_base.py:1225: ConvergenceWarning: Liblinear failed to converge, increase the number of iterations.\n",
      "  warnings.warn(\n"
     ]
    },
    {
     "name": "stdout",
     "output_type": "stream",
     "text": [
      "CPU times: user 54.6 s, sys: 635 ms, total: 55.2 s\n",
      "Wall time: 55.7 s\n",
      "CPU times: user 78.4 ms, sys: 19.5 ms, total: 98 ms\n",
      "Wall time: 25.2 ms\n",
      "CPU times: user 21.5 ms, sys: 3.41 ms, total: 24.9 ms\n",
      "Wall time: 7.01 ms\n",
      "Loop 48 :\n"
     ]
    },
    {
     "name": "stderr",
     "output_type": "stream",
     "text": [
      "/opt/anaconda3/lib/python3.9/site-packages/sklearn/svm/_base.py:1225: ConvergenceWarning: Liblinear failed to converge, increase the number of iterations.\n",
      "  warnings.warn(\n"
     ]
    },
    {
     "name": "stdout",
     "output_type": "stream",
     "text": [
      "CPU times: user 57 s, sys: 648 ms, total: 57.7 s\n",
      "Wall time: 58.1 s\n",
      "CPU times: user 76.2 ms, sys: 20.6 ms, total: 96.8 ms\n",
      "Wall time: 25.6 ms\n",
      "CPU times: user 21.5 ms, sys: 2.25 ms, total: 23.8 ms\n",
      "Wall time: 5.89 ms\n",
      "Loop 49 :\n"
     ]
    },
    {
     "name": "stderr",
     "output_type": "stream",
     "text": [
      "/opt/anaconda3/lib/python3.9/site-packages/sklearn/svm/_base.py:1225: ConvergenceWarning: Liblinear failed to converge, increase the number of iterations.\n",
      "  warnings.warn(\n"
     ]
    },
    {
     "name": "stdout",
     "output_type": "stream",
     "text": [
      "CPU times: user 1min 3s, sys: 691 ms, total: 1min 4s\n",
      "Wall time: 1min 4s\n",
      "CPU times: user 87.4 ms, sys: 22.5 ms, total: 110 ms\n",
      "Wall time: 28.4 ms\n",
      "CPU times: user 19.3 ms, sys: 2.17 ms, total: 21.4 ms\n",
      "Wall time: 5.32 ms\n",
      "Loop 50 :\n"
     ]
    },
    {
     "name": "stderr",
     "output_type": "stream",
     "text": [
      "/opt/anaconda3/lib/python3.9/site-packages/sklearn/svm/_base.py:1225: ConvergenceWarning: Liblinear failed to converge, increase the number of iterations.\n",
      "  warnings.warn(\n"
     ]
    },
    {
     "name": "stdout",
     "output_type": "stream",
     "text": [
      "CPU times: user 1min 10s, sys: 570 ms, total: 1min 10s\n",
      "Wall time: 1min 10s\n",
      "CPU times: user 78.5 ms, sys: 19.9 ms, total: 98.4 ms\n",
      "Wall time: 25.4 ms\n",
      "CPU times: user 21.2 ms, sys: 2.82 ms, total: 24 ms\n",
      "Wall time: 6.06 ms\n"
     ]
    },
    {
     "data": {
      "image/png": "[encoded data removed]",
      "text/plain": [
       "<Figure size 432x288 with 1 Axes>"
      ]
     },
     "metadata": {
      "needs_background": "light"
     },
     "output_type": "display_data"
    }
   ],
   "source": [
    "Cs_LinearSVC = np.logspace(-2, 1)\n",
    "train_scores_LinearSVC = []\n",
    "test_scores_LinearSVC = []\n",
    "num = 1\n",
    "for C in Cs_LinearSVC:\n",
    "    print('Loop', num, ':')\n",
    "    num = num + 1\n",
    "    cls = svm.LinearSVC(C = C)\n",
    "    %time cls.fit(x_train, y_train)\n",
    "    %time train_scores_LinearSVC.append(cls.score(x_train, y_train))\n",
    "    %time test_scores_LinearSVC.append(cls.score(x_test, y_test))\n",
    "\n",
    "# Plot\n",
    "fig = plt.figure()\n",
    "ax = fig.add_subplot(1, 1, 1)\n",
    "ax.plot(Cs_LinearSVC, train_scores_LinearSVC, label='Training_score')\n",
    "ax.plot(Cs_LinearSVC, test_scores_LinearSVC, label='Testing_score')\n",
    "ax.set_xlabel(r'C')\n",
    "ax.set_ylabel(r'score')\n",
    "ax.set_xscale('log')\n",
    "ax.set_title('LinearSVC')\n",
    "ax.legend(loc='best')\n",
    "plt.show()"
   ]
  },
  {
   "cell_type": "code",
   "execution_count": 7,
   "id": "e71ffcca",
   "metadata": {
    "scrolled": true
   },
   "outputs": [
    {
     "name": "stdout",
     "output_type": "stream",
     "text": [
      "Loop 1 :\n",
      "CPU times: user 1min 26s, sys: 2.58 s, total: 1min 29s\n",
      "Wall time: 1min 30s\n",
      "CPU times: user 5min 6s, sys: 2.38 s, total: 5min 8s\n",
      "Wall time: 5min 11s\n",
      "CPU times: user 1min 16s, sys: 594 ms, total: 1min 17s\n",
      "Wall time: 1min 17s\n",
      "Loop 2 :\n",
      "CPU times: user 1min 17s, sys: 2.32 s, total: 1min 19s\n",
      "Wall time: 1min 20s\n",
      "CPU times: user 5min 7s, sys: 2.8 s, total: 5min 10s\n",
      "Wall time: 5min 13s\n",
      "CPU times: user 1min 36s, sys: 1.09 s, total: 1min 37s\n",
      "Wall time: 1min 38s\n",
      "Loop 3 :\n",
      "CPU times: user 2min 41s, sys: 4.99 s, total: 2min 46s\n",
      "Wall time: 2min 49s\n",
      "CPU times: user 6min 30s, sys: 4.88 s, total: 6min 35s\n",
      "Wall time: 6min 42s\n",
      "CPU times: user 1min 14s, sys: 658 ms, total: 1min 15s\n",
      "Wall time: 1min 16s\n",
      "Loop 4 :\n",
      "CPU times: user 1min 30s, sys: 2.28 s, total: 1min 33s\n",
      "Wall time: 1min 33s\n",
      "CPU times: user 4min 55s, sys: 2.28 s, total: 4min 58s\n",
      "Wall time: 5min\n",
      "CPU times: user 1min 14s, sys: 645 ms, total: 1min 14s\n",
      "Wall time: 1min 15s\n",
      "Loop 5 :\n",
      "CPU times: user 1min 42s, sys: 2.37 s, total: 1min 44s\n",
      "Wall time: 1min 45s\n",
      "CPU times: user 4min 56s, sys: 2.41 s, total: 4min 59s\n",
      "Wall time: 5min 2s\n",
      "CPU times: user 1min 13s, sys: 630 ms, total: 1min 14s\n",
      "Wall time: 1min 15s\n",
      "Loop 6 :\n",
      "CPU times: user 1min 47s, sys: 2.31 s, total: 1min 49s\n",
      "Wall time: 1min 50s\n",
      "CPU times: user 4min 48s, sys: 2.13 s, total: 4min 51s\n",
      "Wall time: 4min 53s\n",
      "CPU times: user 1min 17s, sys: 657 ms, total: 1min 18s\n",
      "Wall time: 1min 19s\n",
      "Loop 7 :\n",
      "CPU times: user 2min 6s, sys: 2.94 s, total: 2min 9s\n",
      "Wall time: 2min 11s\n",
      "CPU times: user 4min 54s, sys: 2.27 s, total: 4min 56s\n",
      "Wall time: 4min 59s\n",
      "CPU times: user 1min 12s, sys: 523 ms, total: 1min 13s\n",
      "Wall time: 1min 14s\n",
      "Loop 8 :\n",
      "CPU times: user 2min 15s, sys: 2.62 s, total: 2min 17s\n",
      "Wall time: 2min 19s\n",
      "CPU times: user 4min 48s, sys: 2.06 s, total: 4min 50s\n",
      "Wall time: 4min 53s\n",
      "CPU times: user 1min 12s, sys: 586 ms, total: 1min 12s\n",
      "Wall time: 1min 13s\n",
      "Loop 9 :\n",
      "CPU times: user 2min 21s, sys: 2.52 s, total: 2min 24s\n",
      "Wall time: 2min 25s\n",
      "CPU times: user 4min 55s, sys: 2.22 s, total: 4min 57s\n",
      "Wall time: 5min\n",
      "CPU times: user 1min 23s, sys: 159 ms, total: 1min 23s\n",
      "Wall time: 1min 23s\n",
      "Loop 10 :\n",
      "CPU times: user 2min 21s, sys: 1.59 s, total: 2min 23s\n",
      "Wall time: 2min 23s\n",
      "CPU times: user 5min 19s, sys: 580 ms, total: 5min 19s\n",
      "Wall time: 5min 20s\n",
      "CPU times: user 1min 23s, sys: 127 ms, total: 1min 23s\n",
      "Wall time: 1min 23s\n",
      "Loop 11 :\n",
      "CPU times: user 2min 41s, sys: 1.61 s, total: 2min 43s\n",
      "Wall time: 2min 44s\n",
      "CPU times: user 5min 11s, sys: 425 ms, total: 5min 11s\n",
      "Wall time: 5min 11s\n",
      "CPU times: user 1min 23s, sys: 101 ms, total: 1min 23s\n",
      "Wall time: 1min 23s\n",
      "Loop 12 :\n",
      "CPU times: user 2min 41s, sys: 1.5 s, total: 2min 42s\n",
      "Wall time: 2min 43s\n",
      "CPU times: user 5min 24s, sys: 454 ms, total: 5min 24s\n",
      "Wall time: 5min 24s\n",
      "CPU times: user 1min 23s, sys: 104 ms, total: 1min 23s\n",
      "Wall time: 1min 23s\n",
      "Loop 13 :\n",
      "CPU times: user 2min 38s, sys: 1.52 s, total: 2min 39s\n",
      "Wall time: 2min 40s\n",
      "CPU times: user 5min 13s, sys: 585 ms, total: 5min 14s\n",
      "Wall time: 5min 14s\n",
      "CPU times: user 1min 23s, sys: 111 ms, total: 1min 23s\n",
      "Wall time: 1min 23s\n",
      "Loop 14 :\n",
      "CPU times: user 2min 53s, sys: 1.61 s, total: 2min 54s\n",
      "Wall time: 2min 54s\n",
      "CPU times: user 4min 52s, sys: 596 ms, total: 4min 52s\n",
      "Wall time: 4min 53s\n",
      "CPU times: user 1min 22s, sys: 115 ms, total: 1min 23s\n",
      "Wall time: 1min 23s\n",
      "Loop 15 :\n",
      "CPU times: user 3min 5s, sys: 1.64 s, total: 3min 7s\n",
      "Wall time: 3min 7s\n",
      "CPU times: user 6min 16s, sys: 1.65 s, total: 6min 18s\n",
      "Wall time: 17min 16s\n",
      "CPU times: user 1min 19s, sys: 159 ms, total: 1min 19s\n",
      "Wall time: 1min 19s\n",
      "Loop 16 :\n",
      "CPU times: user 3min 9s, sys: 1.75 s, total: 3min 11s\n",
      "Wall time: 3min 12s\n",
      "CPU times: user 5min 24s, sys: 568 ms, total: 5min 24s\n",
      "Wall time: 5min 25s\n",
      "CPU times: user 1min 22s, sys: 116 ms, total: 1min 22s\n",
      "Wall time: 1min 23s\n",
      "Loop 17 :\n",
      "CPU times: user 3min 22s, sys: 2.37 s, total: 3min 24s\n",
      "Wall time: 3min 27s\n",
      "CPU times: user 5min 23s, sys: 1.27 s, total: 5min 24s\n",
      "Wall time: 5min 27s\n",
      "CPU times: user 1min 21s, sys: 299 ms, total: 1min 21s\n",
      "Wall time: 1min 22s\n",
      "Loop 18 :\n",
      "CPU times: user 3min 48s, sys: 3.19 s, total: 3min 51s\n",
      "Wall time: 3min 54s\n",
      "CPU times: user 5min 21s, sys: 1.59 s, total: 5min 22s\n",
      "Wall time: 5min 26s\n",
      "CPU times: user 1min 18s, sys: 572 ms, total: 1min 19s\n",
      "Wall time: 1min 21s\n",
      "Loop 19 :\n",
      "CPU times: user 3min 49s, sys: 2.96 s, total: 3min 52s\n",
      "Wall time: 3min 56s\n",
      "CPU times: user 5min 19s, sys: 1.76 s, total: 5min 21s\n",
      "Wall time: 5min 25s\n",
      "CPU times: user 1min 22s, sys: 126 ms, total: 1min 23s\n",
      "Wall time: 1min 23s\n",
      "Loop 20 :\n",
      "CPU times: user 3min 40s, sys: 2.75 s, total: 3min 42s\n",
      "Wall time: 3min 46s\n",
      "CPU times: user 5min 16s, sys: 2.44 s, total: 5min 19s\n",
      "Wall time: 5min 26s\n",
      "CPU times: user 1min 20s, sys: 327 ms, total: 1min 21s\n",
      "Wall time: 1min 21s\n"
     ]
    },
    {
     "data": {
      "image/png": "[encoded data removed]",
      "text/plain": [
       "<Figure size 432x288 with 1 Axes>"
      ]
     },
     "metadata": {
      "needs_background": "light"
     },
     "output_type": "display_data"
    }
   ],
   "source": [
    "Cs_svc1 = np.arange(1,21,1)\n",
    "train_scores_svc1 = []\n",
    "test_scores_svc1 = []\n",
    "num = 1\n",
    "for C in Cs_svc1:\n",
    "    print('Loop', num, ':')\n",
    "    num = num + 1\n",
    "    cls = svm.SVC(kernel = \"poly\", C = C, degree = 2)\n",
    "    %time cls.fit(x_train, y_train)\n",
    "    %time train_scores_svc1.append(cls.score(x_train, y_train))\n",
    "    %time test_scores_svc1.append(cls.score(x_test, y_test))\n",
    "\n",
    "# Plot\n",
    "fig = plt.figure()\n",
    "ax = fig.add_subplot(1, 1, 1)\n",
    "ax.plot(Cs_svc1, train_scores_svc1, label='Training_score')\n",
    "ax.plot(Cs_svc1, test_scores_svc1, label='Testing_score')\n",
    "ax.set_xlabel(r'C')\n",
    "ax.set_ylabel(r'score')\n",
    "ax.set_xscale('log')\n",
    "ax.set_title('SVC with kernel = \"poly\"')\n",
    "ax.legend(loc='best')\n",
    "plt.show()"
   ]
  },
  {
   "cell_type": "code",
   "execution_count": 8,
   "id": "276c8234",
   "metadata": {
    "scrolled": true
   },
   "outputs": [
    {
     "name": "stdout",
     "output_type": "stream",
     "text": [
      "Loop 1 :\n",
      "CPU times: user 1min 59s, sys: 3.28 s, total: 2min 2s\n",
      "Wall time: 2min 4s\n",
      "CPU times: user 12min 40s, sys: 5.92 s, total: 12min 46s\n",
      "Wall time: 13min 6s\n",
      "CPU times: user 3min 9s, sys: 1.58 s, total: 3min 11s\n",
      "Wall time: 3min 16s\n",
      "Loop 2 :\n",
      "CPU times: user 1min 53s, sys: 3.79 s, total: 1min 57s\n",
      "Wall time: 2min 2s\n",
      "CPU times: user 12min 19s, sys: 5.13 s, total: 12min 24s\n",
      "Wall time: 12min 44s\n",
      "CPU times: user 3min 6s, sys: 239 ms, total: 3min 6s\n",
      "Wall time: 3min 7s\n",
      "Loop 3 :\n",
      "CPU times: user 1min 37s, sys: 2.12 s, total: 1min 39s\n",
      "Wall time: 1min 39s\n",
      "CPU times: user 12min 26s, sys: 1.47 s, total: 12min 27s\n",
      "Wall time: 13min 21s\n",
      "CPU times: user 3min 2s, sys: 191 ms, total: 3min 2s\n",
      "Wall time: 3min 3s\n",
      "Loop 4 :\n",
      "CPU times: user 1min 38s, sys: 2.16 s, total: 1min 40s\n",
      "Wall time: 1min 40s\n",
      "CPU times: user 11min 54s, sys: 1.35 s, total: 11min 55s\n",
      "Wall time: 11min 58s\n",
      "CPU times: user 3min 3s, sys: 202 ms, total: 3min 3s\n",
      "Wall time: 3min 4s\n",
      "Loop 5 :\n",
      "CPU times: user 1min 39s, sys: 2.33 s, total: 1min 41s\n",
      "Wall time: 1min 42s\n",
      "CPU times: user 10min 58s, sys: 780 ms, total: 10min 59s\n",
      "Wall time: 10min 59s\n",
      "CPU times: user 3min 4s, sys: 194 ms, total: 3min 4s\n",
      "Wall time: 3min 4s\n",
      "Loop 6 :\n",
      "CPU times: user 1min 39s, sys: 2.19 s, total: 1min 41s\n",
      "Wall time: 1min 41s\n",
      "CPU times: user 12min 24s, sys: 917 ms, total: 12min 25s\n",
      "Wall time: 12min 26s\n",
      "CPU times: user 3min 3s, sys: 181 ms, total: 3min 3s\n",
      "Wall time: 3min 4s\n",
      "Loop 7 :\n",
      "CPU times: user 1min 39s, sys: 2.15 s, total: 1min 41s\n",
      "Wall time: 1min 41s\n",
      "CPU times: user 12min 7s, sys: 742 ms, total: 12min 8s\n",
      "Wall time: 12min 9s\n",
      "CPU times: user 3min 3s, sys: 180 ms, total: 3min 3s\n",
      "Wall time: 3min 3s\n",
      "Loop 8 :\n",
      "CPU times: user 1min 39s, sys: 2.19 s, total: 1min 42s\n",
      "Wall time: 1min 42s\n",
      "CPU times: user 12min, sys: 725 ms, total: 12min 1s\n",
      "Wall time: 12min 1s\n",
      "CPU times: user 3min 3s, sys: 190 ms, total: 3min 3s\n",
      "Wall time: 3min 3s\n",
      "Loop 9 :\n",
      "CPU times: user 1min 40s, sys: 2.21 s, total: 1min 42s\n",
      "Wall time: 1min 42s\n",
      "CPU times: user 11min 59s, sys: 749 ms, total: 12min\n",
      "Wall time: 12min 1s\n",
      "CPU times: user 3min 1s, sys: 194 ms, total: 3min 2s\n",
      "Wall time: 3min 2s\n",
      "Loop 10 :\n",
      "CPU times: user 1min 41s, sys: 2.25 s, total: 1min 44s\n",
      "Wall time: 1min 44s\n",
      "CPU times: user 11min 9s, sys: 787 ms, total: 11min 10s\n",
      "Wall time: 11min 10s\n",
      "CPU times: user 3min 6s, sys: 243 ms, total: 3min 6s\n",
      "Wall time: 3min 6s\n",
      "Loop 11 :\n",
      "CPU times: user 1min 43s, sys: 2.27 s, total: 1min 45s\n",
      "Wall time: 1min 45s\n",
      "CPU times: user 11min 57s, sys: 750 ms, total: 11min 58s\n",
      "Wall time: 11min 58s\n",
      "CPU times: user 3min 4s, sys: 187 ms, total: 3min 4s\n",
      "Wall time: 3min 4s\n",
      "Loop 12 :\n",
      "CPU times: user 1min 43s, sys: 2.28 s, total: 1min 45s\n",
      "Wall time: 1min 45s\n",
      "CPU times: user 11min 41s, sys: 731 ms, total: 11min 41s\n",
      "Wall time: 11min 42s\n",
      "CPU times: user 3min 4s, sys: 197 ms, total: 3min 4s\n",
      "Wall time: 3min 5s\n",
      "Loop 13 :\n",
      "CPU times: user 1min 43s, sys: 2.33 s, total: 1min 46s\n",
      "Wall time: 1min 46s\n",
      "CPU times: user 11min 9s, sys: 721 ms, total: 11min 10s\n",
      "Wall time: 11min 11s\n",
      "CPU times: user 3min 2s, sys: 180 ms, total: 3min 2s\n",
      "Wall time: 3min 3s\n",
      "Loop 14 :\n",
      "CPU times: user 1min 44s, sys: 2.29 s, total: 1min 46s\n",
      "Wall time: 1min 46s\n",
      "CPU times: user 11min 52s, sys: 741 ms, total: 11min 52s\n",
      "Wall time: 11min 53s\n",
      "CPU times: user 3min 4s, sys: 182 ms, total: 3min 4s\n",
      "Wall time: 3min 4s\n",
      "Loop 15 :\n",
      "CPU times: user 1min 45s, sys: 2.32 s, total: 1min 47s\n",
      "Wall time: 1min 47s\n",
      "CPU times: user 11min 29s, sys: 733 ms, total: 11min 29s\n",
      "Wall time: 11min 30s\n",
      "CPU times: user 3min 5s, sys: 255 ms, total: 3min 5s\n",
      "Wall time: 3min 6s\n",
      "Loop 16 :\n",
      "CPU times: user 1min 47s, sys: 2.45 s, total: 1min 49s\n",
      "Wall time: 1min 49s\n",
      "CPU times: user 11min 19s, sys: 776 ms, total: 11min 20s\n",
      "Wall time: 11min 21s\n",
      "CPU times: user 3min 4s, sys: 366 ms, total: 3min 4s\n",
      "Wall time: 3min 6s\n",
      "Loop 17 :\n",
      "CPU times: user 1min 45s, sys: 2.45 s, total: 1min 48s\n",
      "Wall time: 1min 48s\n",
      "CPU times: user 11min 53s, sys: 767 ms, total: 11min 54s\n",
      "Wall time: 11min 55s\n",
      "CPU times: user 3min, sys: 189 ms, total: 3min 1s\n",
      "Wall time: 3min 1s\n",
      "Loop 18 :\n",
      "CPU times: user 1min 51s, sys: 2.6 s, total: 1min 54s\n",
      "Wall time: 1min 54s\n",
      "CPU times: user 11min 50s, sys: 727 ms, total: 11min 51s\n",
      "Wall time: 11min 52s\n",
      "CPU times: user 3min 4s, sys: 171 ms, total: 3min 4s\n",
      "Wall time: 3min 4s\n",
      "Loop 19 :\n",
      "CPU times: user 1min 46s, sys: 2.47 s, total: 1min 48s\n",
      "Wall time: 1min 49s\n",
      "CPU times: user 11min 48s, sys: 693 ms, total: 11min 49s\n",
      "Wall time: 11min 49s\n",
      "CPU times: user 3min, sys: 175 ms, total: 3min 1s\n",
      "Wall time: 3min 1s\n",
      "Loop 20 :\n",
      "CPU times: user 1min 47s, sys: 2.49 s, total: 1min 50s\n",
      "Wall time: 1min 50s\n",
      "CPU times: user 11min 57s, sys: 688 ms, total: 11min 58s\n",
      "Wall time: 11min 58s\n",
      "CPU times: user 3min 3s, sys: 165 ms, total: 3min 3s\n",
      "Wall time: 3min 3s\n"
     ]
    },
    {
     "data": {
      "image/png": "[encoded data removed]",
      "text/plain": [
       "<Figure size 432x288 with 1 Axes>"
      ]
     },
     "metadata": {
      "needs_background": "light"
     },
     "output_type": "display_data"
    }
   ],
   "source": [
    "gammas = np.arange(1,21,1)\n",
    "train_scores_svc2 = []\n",
    "test_scores_svc2 = []\n",
    "num = 1\n",
    "for gamma in gammas:\n",
    "    print('Loop', num, ':')\n",
    "    num = num + 1\n",
    "    cls = svm.SVC(kernel =  \"rbf\", gamma = gamma)\n",
    "    %time cls.fit(x_train, y_train)\n",
    "    %time train_scores_svc2.append(cls.score(x_train, y_train))\n",
    "    %time test_scores_svc2.append(cls.score(x_test, y_test))\n",
    "\n",
    "# Plot\n",
    "fig = plt.figure()\n",
    "ax = fig.add_subplot(1, 1, 1)\n",
    "ax.plot(gammas, train_scores_svc2, label='Training_score')\n",
    "ax.plot(gammas, test_scores_svc2, label='Testing_score')\n",
    "ax.set_xlabel(r'gamma')\n",
    "ax.set_ylabel(r'score')\n",
    "ax.set_xscale('log')\n",
    "ax.set_title('SVC with kernel = \"rbf\"')\n",
    "ax.legend(loc='best')\n",
    "plt.show()"
   ]
  },
  {
   "cell_type": "code",
   "execution_count": 9,
   "id": "26d4d723",
   "metadata": {},
   "outputs": [
    {
     "name": "stdout",
     "output_type": "stream",
     "text": [
      "CPU times: user 1min 11s, sys: 125 ms, total: 1min 11s\n",
      "Wall time: 1min 11s\n",
      "CPU times: user 36.1 ms, sys: 11.6 ms, total: 47.7 ms\n",
      "Wall time: 27.4 ms\n"
     ]
    },
    {
     "name": "stderr",
     "output_type": "stream",
     "text": [
      "/opt/anaconda3/lib/python3.9/site-packages/sklearn/svm/_base.py:1225: ConvergenceWarning: Liblinear failed to converge, increase the number of iterations.\n",
      "  warnings.warn(\n"
     ]
    },
    {
     "data": {
      "text/plain": [
       "0.2969683915782672"
      ]
     },
     "execution_count": 9,
     "metadata": {},
     "output_type": "execute_result"
    }
   ],
   "source": [
    "# Fitting LinearSVC model\n",
    "\n",
    "linearsvc = svm.LinearSVC(C = Cs_LinearSVC[test_scores_LinearSVC.index(max(test_scores_LinearSVC))])\n",
    "%time linearsvc.fit(x_train, y_train)\n",
    "\n",
    "# Return the mean accuracy on the given test data and labels.\n",
    "\n",
    "%time linearsvc_score = linearsvc.score(x_test, y_test)\n",
    "linearsvc_score"
   ]
  },
  {
   "cell_type": "code",
   "execution_count": 10,
   "id": "e7ffee59",
   "metadata": {},
   "outputs": [
    {
     "name": "stdout",
     "output_type": "stream",
     "text": [
      "CPU times: user 2min 2s, sys: 1.5 s, total: 2min 3s\n",
      "Wall time: 2min 3s\n",
      "CPU times: user 1min 7s, sys: 98 ms, total: 1min 7s\n",
      "Wall time: 1min 7s\n"
     ]
    },
    {
     "data": {
      "text/plain": [
       "0.6215066501534651"
      ]
     },
     "execution_count": 10,
     "metadata": {},
     "output_type": "execute_result"
    }
   ],
   "source": [
    "# Fitting SVC (kernel=\"poly\") model\n",
    "\n",
    "svc1 = svm.SVC(kernel = \"poly\", C = Cs_svc1[test_scores_svc1.index(max(test_scores_svc1))], degree = 2)\n",
    "%time svc1.fit(x_train, y_train)\n",
    "\n",
    "# Return the mean accuracy on the given test data and labels.\n",
    "\n",
    "%time svc1_score = svc1.score(x_test, y_test)\n",
    "svc1_score"
   ]
  },
  {
   "cell_type": "code",
   "execution_count": 11,
   "id": "f38b244e",
   "metadata": {},
   "outputs": [
    {
     "name": "stdout",
     "output_type": "stream",
     "text": [
      "CPU times: user 1min 37s, sys: 2.06 s, total: 1min 39s\n",
      "Wall time: 1min 39s\n",
      "CPU times: user 2min 51s, sys: 165 ms, total: 2min 51s\n",
      "Wall time: 2min 51s\n"
     ]
    },
    {
     "data": {
      "text/plain": [
       "0.6155295891443648"
      ]
     },
     "execution_count": 11,
     "metadata": {},
     "output_type": "execute_result"
    }
   ],
   "source": [
    "# Fitting SVC (kernel='rbf') model\n",
    "\n",
    "svc2 = svm.SVC(kernel =  \"rbf\", gamma = gammas[test_scores_svc2.index(max(test_scores_svc2))])\n",
    "%time svc2.fit(x_train, y_train)\n",
    "\n",
    "# Return the mean accuracy on the given test data and labels.\n",
    "\n",
    "%time svc2_score = svc2.score(x_test, y_test)\n",
    "svc2_score"
   ]
  },
  {
   "cell_type": "markdown",
   "id": "0894860e",
   "metadata": {},
   "source": [
    "## Figure"
   ]
  },
  {
   "cell_type": "code",
   "execution_count": 12,
   "id": "b0cdb93e",
   "metadata": {},
   "outputs": [
    {
     "name": "stdout",
     "output_type": "stream",
     "text": [
      "CPU times: user 15.6 ms, sys: 7.19 ms, total: 22.8 ms\n",
      "Wall time: 5.87 ms\n"
     ]
    },
    {
     "data": {
      "image/png": "[encoded data removed]",
      "text/plain": [
       "<Figure size 432x288 with 1 Axes>"
      ]
     },
     "metadata": {
      "needs_background": "light"
     },
     "output_type": "display_data"
    }
   ],
   "source": [
    "%time pre_linearsvc = linearsvc.predict(x_test)\n",
    "plt.boxplot([y_test, pre_linearsvc], medianprops = {'color': 'red'}, meanline = True, showmeans = True, meanprops = {'color': 'blue', 'ls': '--'}, labels = {'True value', 'Predict value'})\n",
    "plt.show()"
   ]
  },
  {
   "cell_type": "code",
   "execution_count": 13,
   "id": "0833fce6",
   "metadata": {},
   "outputs": [
    {
     "name": "stdout",
     "output_type": "stream",
     "text": [
      "CPU times: user 1min 24s, sys: 95.8 ms, total: 1min 24s\n",
      "Wall time: 1min 24s\n"
     ]
    },
    {
     "data": {
      "image/png": "[encoded data removed]",
      "text/plain": [
       "<Figure size 432x288 with 1 Axes>"
      ]
     },
     "metadata": {
      "needs_background": "light"
     },
     "output_type": "display_data"
    }
   ],
   "source": [
    "%time pre_svc1 = svc1.predict(x_test)\n",
    "plt.boxplot([y_test, pre_svc1], medianprops = {'color': 'red'}, meanline = True, showmeans = True, meanprops = {'color': 'blue', 'ls': '--'}, labels = {'True value', 'Predict value'})\n",
    "plt.show()"
   ]
  },
  {
   "cell_type": "code",
   "execution_count": 14,
   "id": "ae8692b2",
   "metadata": {},
   "outputs": [
    {
     "name": "stdout",
     "output_type": "stream",
     "text": [
      "CPU times: user 2min 43s, sys: 168 ms, total: 2min 43s\n",
      "Wall time: 2min 44s\n"
     ]
    },
    {
     "data": {
      "image/png": "[encoded data removed]",
      "text/plain": [
       "<Figure size 432x288 with 1 Axes>"
      ]
     },
     "metadata": {
      "needs_background": "light"
     },
     "output_type": "display_data"
    }
   ],
   "source": [
    "%time pre_svc2 = svc2.predict(x_test)\n",
    "plt.boxplot([y_test, pre_svc2], medianprops = {'color': 'red'}, meanline = True, showmeans = True, meanprops = {'color': 'blue', 'ls': '--'}, labels = {'True value', 'Predict value'})\n",
    "plt.show()"
   ]
  }
 ],
 "metadata": {
  "kernelspec": {
   "display_name": "Python 3 (ipykernel)",
   "language": "python",
   "name": "python3"
  },
  "language_info": {
   "codemirror_mode": {
    "name": "ipython",
    "version": 3
   },
   "file_extension": ".py",
   "mimetype": "text/x-python",
   "name": "python",
   "nbconvert_exporter": "python",
   "pygments_lexer": "ipython3",
   "version": "3.9.7"
  }
 },
 "nbformat": 4,
 "nbformat_minor": 5
}
