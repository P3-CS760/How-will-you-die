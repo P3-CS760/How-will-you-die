{
 "cells": [
  {
   "cell_type": "code",
   "execution_count": 1,
   "id": "29dba385",
   "metadata": {},
   "outputs": [],
   "source": [
    "import math\n",
    "import numpy as np\n",
    "import pandas as pd\n",
    "\n",
    "from sklearn import svm\n",
    "from sklearn import preprocessing\n",
    "from sklearn.model_selection import train_test_split\n",
    "from sklearn.metrics import mean_squared_error\n",
    "\n",
    "import matplotlib.pyplot as plt\n",
    "\n",
    "RANDOM_STATE = 666666"
   ]
  },
  {
   "cell_type": "code",
   "execution_count": 2,
   "id": "b7a13e2b",
   "metadata": {},
   "outputs": [],
   "source": [
    "# Import Data\n",
    "\n",
    "df = pd.read_csv(r'C:\\Users\\benhe\\Documents\\Uni\\760\\SVM\\bow_clean_final.csv', sep=',')\n",
    "df = df.dropna(subset = ['Age of death'])\n",
    "X = df[['Short description', 'Gender', 'Country', 'Occupation', 'Birth year']]\n",
    "Y = df['Age of death']"
   ]
  },
  {
   "cell_type": "code",
   "execution_count": 3,
   "id": "cf708561",
   "metadata": {},
   "outputs": [],
   "source": [
    "# LabelEncoder\n",
    "\n",
    "X_LE = np.zeros((len(X.T), len(X)))\n",
    "LE = preprocessing.LabelEncoder()\n",
    "for i in range(len(X.T)):\n",
    "    LE.fit(X.T.to_numpy()[i])\n",
    "    X_LE[i] = LE.transform(X.T.to_numpy()[i])\n",
    "X_LE = X_LE.T\n",
    "\n",
    "Y_np = Y.to_numpy()"
   ]
  },
  {
   "cell_type": "code",
   "execution_count": 4,
   "id": "328f74fc",
   "metadata": {},
   "outputs": [],
   "source": [
    "# Standzardization\n",
    "\n",
    "X_S = np.zeros((len(X_LE.T), len(X_LE)))\n",
    "for i in range(len(X_LE.T)):\n",
    "    X_S[i] = (X_LE.T[i]-np.min(X_LE.T[i]))/(np.max(X_LE.T[i])-np.min(X_LE.T[i]))\n",
    "X_S = X_S.T"
   ]
  },
  {
   "cell_type": "code",
   "execution_count": 5,
   "id": "0cfe16e2",
   "metadata": {},
   "outputs": [],
   "source": [
    "# Create training and test data sets\n",
    "\n",
    "x = X_S\n",
    "y = Y_np.astype(int)\n",
    "x_train, x_test, y_train, y_test = train_test_split(x, y, test_size = 0.2, random_state = RANDOM_STATE)"
   ]
  },
  {
   "cell_type": "markdown",
   "id": "ec71a6aa",
   "metadata": {},
   "source": [
    "## SVM"
   ]
  },
  {
   "cell_type": "code",
   "execution_count": 6,
   "id": "f15fdc13",
   "metadata": {},
   "outputs": [
    {
     "name": "stdout",
     "output_type": "stream",
     "text": [
      "linear 0.6133154928309048\n",
      "poly 0.620965523177973\n",
      "rbf 0.6331286813640397\n"
     ]
    }
   ],
   "source": [
    "# Choose kernel\n",
    "\n",
    "for k in ['linear', 'poly', 'rbf']:\n",
    "    clf = svm.SVR(kernel = k)\n",
    "    clf.fit(x_train, y_train)\n",
    "    confidence = clf.score(x_train, y_train)\n",
    "    print(k, confidence)"
   ]
  },
  {
   "cell_type": "code",
   "execution_count": 7,
   "id": "008215dd",
   "metadata": {},
   "outputs": [
    {
     "name": "stdout",
     "output_type": "stream",
     "text": [
      "Confidence:  0.6332807646672924\n"
     ]
    }
   ],
   "source": [
    "# Fit model\n",
    "\n",
    "Svr = svm.SVR(kernel = 'rbf', C = 6, gamma = 3)\n",
    "Svr.fit(x_train, y_train)\n",
    "confidence = Svr.score(x_test, y_test)\n",
    "pred = Svr.predict(x_test)\n",
    "print(\"Confidence: \", confidence)"
   ]
  },
  {
   "cell_type": "code",
   "execution_count": 8,
   "id": "ac60359c",
   "metadata": {},
   "outputs": [
    {
     "name": "stdout",
     "output_type": "stream",
     "text": [
      "Global mean:  1.0204845446266025e-15\n",
      "Prediction:  2.188617144925334\n"
     ]
    }
   ],
   "source": [
    "def RMSE(obs, pred):\n",
    "    return math.sqrt(pow(np.mean(obs - pred), 2))\n",
    "\n",
    "## global mean\n",
    "print(\"Global mean: \", RMSE(y_test, np.mean(y_test)))\n",
    "\n",
    "## linear model prediction on the test data\n",
    "print(\"Prediction: \", RMSE(y_test, pred))"
   ]
  },
  {
   "cell_type": "code",
   "execution_count": 9,
   "id": "e6c926ae",
   "metadata": {},
   "outputs": [
    {
     "data": {
      "image/png": "[encoded data removed]",
      "text/plain": [
       "<Figure size 432x288 with 1 Axes>"
      ]
     },
     "metadata": {
      "needs_background": "light"
     },
     "output_type": "display_data"
    }
   ],
   "source": [
    "plt.boxplot([y_test, pred], medianprops = {'color': 'red'}, meanline = True, showmeans = True, meanprops = {'color': 'blue', 'ls': '--'}, labels = {'True value', 'Predict value'})\n",
    "plt.show()"
   ]
  },
  {
   "cell_type": "code",
   "execution_count": 12,
   "id": "e3252dfc",
   "metadata": {},
   "outputs": [
    {
     "name": "stdout",
     "output_type": "stream",
     "text": [
      "Prediction:  10.74884054720974\n"
     ]
    }
   ],
   "source": [
    "rms = mean_squared_error(y_test, pred, squared=False)\n",
    "print(\"Prediction: \", rms)"
   ]
  },
  {
   "cell_type": "code",
   "execution_count": null,
   "id": "ff6fba90",
   "metadata": {},
   "outputs": [],
   "source": []
  }
 ],
 "metadata": {
  "kernelspec": {
   "display_name": "Python 3 (ipykernel)",
   "language": "python",
   "name": "python3"
  },
  "language_info": {
   "codemirror_mode": {
    "name": "ipython",
    "version": 3
   },
   "file_extension": ".py",
   "mimetype": "text/x-python",
   "name": "python",
   "nbconvert_exporter": "python",
   "pygments_lexer": "ipython3",
   "version": "3.9.12"
  }
 },
 "nbformat": 4,
 "nbformat_minor": 5
}
