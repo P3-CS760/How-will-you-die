{
 "cells": [
  {
   "cell_type": "markdown",
   "id": "b41adc48",
   "metadata": {},
   "source": [
    "# Manner of Death"
   ]
  },
  {
   "cell_type": "markdown",
   "id": "0de06f5e",
   "metadata": {},
   "source": [
    "## Data Process"
   ]
  },
  {
   "cell_type": "code",
   "execution_count": 1,
   "id": "0a4ad675",
   "metadata": {},
   "outputs": [],
   "source": [
    "import numpy as np\n",
    "import pandas as pd\n",
    "from sklearn import preprocessing\n",
    "from sklearn.model_selection import train_test_split\n",
    "\n",
    "from sklearn.svm import SVC\n",
    "from sklearn.svm import LinearSVC\n",
    "\n",
    "from sklearn.neighbors import KNeighborsClassifier\n",
    "\n",
    "from sklearn.linear_model import LogisticRegression\n",
    "\n",
    "from sklearn.ensemble import VotingClassifier\n",
    "\n",
    "from sklearn.model_selection import cross_val_score\n",
    "\n",
    "RANDOM_STATE = 666666"
   ]
  },
  {
   "cell_type": "code",
   "execution_count": 2,
   "id": "516e658a",
   "metadata": {},
   "outputs": [],
   "source": [
    "# Import Data\n",
    "\n",
    "df = pd.read_csv('Data/outputData.csv', sep=',')\n",
    "X = df[['Gender', 'Occupation', 'Country', 'Birth Year', 'Death Year']]\n",
    "Y = df['Manner of Death']"
   ]
  },
  {
   "cell_type": "code",
   "execution_count": 3,
   "id": "15b23f32",
   "metadata": {},
   "outputs": [],
   "source": [
    "# LabelEncoder\n",
    "\n",
    "X_LE = np.zeros((len(X.T), len(X)))\n",
    "LE = preprocessing.LabelEncoder()\n",
    "for i in range(len(X.T)):\n",
    "    LE.fit(X.T.to_numpy()[i])\n",
    "    X_LE[i] = LE.transform(X.T.to_numpy()[i])\n",
    "X_LE = X_LE.T\n",
    "\n",
    "LE = preprocessing.LabelEncoder()\n",
    "LE.fit(Y.to_numpy())\n",
    "Y_LE = LE.transform(Y.to_numpy())"
   ]
  },
  {
   "cell_type": "code",
   "execution_count": 4,
   "id": "57ea452a",
   "metadata": {},
   "outputs": [],
   "source": [
    "# Standzardization\n",
    "\n",
    "X_S = np.zeros((len(X_LE.T), len(X_LE)))\n",
    "for i in range(len(X_LE.T)):\n",
    "    X_S[i] = (X_LE.T[i]-np.min(X_LE.T[i]))/(np.max(X_LE.T[i])-np.min(X_LE.T[i]))\n",
    "X_S = X_S.T"
   ]
  },
  {
   "cell_type": "code",
   "execution_count": 5,
   "id": "2af3e9c7",
   "metadata": {},
   "outputs": [],
   "source": [
    "# Create training and test data sets\n",
    "\n",
    "x = X_S\n",
    "y = Y_LE\n",
    "\n",
    "x_train, x_test, y_train, y_test = train_test_split(x, y, test_size = 0.2, random_state = RANDOM_STATE)"
   ]
  },
  {
   "cell_type": "markdown",
   "id": "58ab06ef",
   "metadata": {},
   "source": [
    "## Model"
   ]
  },
  {
   "cell_type": "markdown",
   "id": "e61e3f3b",
   "metadata": {},
   "source": [
    "### SVC"
   ]
  },
  {
   "cell_type": "code",
   "execution_count": 6,
   "id": "b10f8bda",
   "metadata": {},
   "outputs": [
    {
     "name": "stdout",
     "output_type": "stream",
     "text": [
      "CPU times: total: 1.36 s\n",
      "Wall time: 1.34 s\n"
     ]
    },
    {
     "data": {
      "text/plain": [
       "0.9293021753176826"
      ]
     },
     "execution_count": 6,
     "metadata": {},
     "output_type": "execute_result"
    }
   ],
   "source": [
    "# Fitting Linear SVC model\n",
    "\n",
    "svc_lin = LinearSVC(C = 10, dual = False)\n",
    "%time svc_lin.fit(x_train, y_train)\n",
    "\n",
    "# Return the mean accuracy on the given test data and labels.\n",
    "\n",
    "svc_lin.score(x_test, y_test)"
   ]
  },
  {
   "cell_type": "code",
   "execution_count": 7,
   "id": "f38b244e",
   "metadata": {},
   "outputs": [
    {
     "name": "stdout",
     "output_type": "stream",
     "text": [
      "CPU times: total: 38.8 s\n",
      "Wall time: 37.6 s\n"
     ]
    },
    {
     "data": {
      "text/plain": [
       "0.9293021753176826"
      ]
     },
     "execution_count": 7,
     "metadata": {},
     "output_type": "execute_result"
    }
   ],
   "source": [
    "# Fitting SVC (kernel='rbf') model\n",
    "\n",
    "svc_rbf = SVC(kernel =  \"rbf\", gamma = 1)\n",
    "%time svc_rbf.fit(x_train, y_train)\n",
    "\n",
    "# Return the mean accuracy on the given test data and labels.\n",
    "\n",
    "svc_rbf.score(x_test, y_test)"
   ]
  },
  {
   "cell_type": "code",
   "execution_count": 8,
   "id": "416c0322",
   "metadata": {},
   "outputs": [
    {
     "name": "stdout",
     "output_type": "stream",
     "text": [
      "CPU times: total: 18.3 s\n",
      "Wall time: 18.3 s\n"
     ]
    },
    {
     "data": {
      "text/plain": [
       "0.9293021753176826"
      ]
     },
     "execution_count": 8,
     "metadata": {},
     "output_type": "execute_result"
    }
   ],
   "source": [
    "# Fitting SVC (kernel=\"poly\") model\n",
    "\n",
    "svc_poly = SVC(kernel = \"poly\", C = 10, degree = 1)\n",
    "%time svc_poly.fit(x_train, y_train)\n",
    "\n",
    "# Return the mean accuracy on the given test data and labels.\n",
    "\n",
    "svc_poly.score(x_test, y_test)"
   ]
  },
  {
   "cell_type": "markdown",
   "id": "2c3f19e4",
   "metadata": {},
   "source": [
    "### KNN"
   ]
  },
  {
   "cell_type": "code",
   "execution_count": 9,
   "id": "c4241b56",
   "metadata": {},
   "outputs": [
    {
     "name": "stdout",
     "output_type": "stream",
     "text": [
      "CPU times: total: 109 ms\n",
      "Wall time: 118 ms\n"
     ]
    },
    {
     "data": {
      "text/plain": [
       "0.9267714839543398"
      ]
     },
     "execution_count": 9,
     "metadata": {},
     "output_type": "execute_result"
    }
   ],
   "source": [
    "# Fitting KNN model\n",
    "\n",
    "kNN_classifier = KNeighborsClassifier(n_neighbors  = 10)\n",
    "%time kNN_classifier.fit(x_train, y_train)\n",
    "\n",
    "# Return the mean accuracy on the given test data and labels.\n",
    "\n",
    "kNN_classifier.score(x_test, y_test)"
   ]
  },
  {
   "cell_type": "markdown",
   "id": "f91d4cd2",
   "metadata": {},
   "source": [
    "### Logistic Regression"
   ]
  },
  {
   "cell_type": "code",
   "execution_count": 10,
   "id": "47e8db41",
   "metadata": {},
   "outputs": [
    {
     "name": "stdout",
     "output_type": "stream",
     "text": [
      "CPU times: total: 1min 25s\n",
      "Wall time: 10.7 s\n"
     ]
    },
    {
     "data": {
      "text/plain": [
       "0.9288714193409433"
      ]
     },
     "execution_count": 10,
     "metadata": {},
     "output_type": "execute_result"
    }
   ],
   "source": [
    "# Fitting Logistic Regression model\n",
    "\n",
    "log_reg = LogisticRegression(solver = 'lbfgs', max_iter = 1000)\n",
    "%time sgd_reg.fit(x_train, y_train)\n",
    "\n",
    "# Return the mean accuracy on the given test data and labels.\n",
    "log_reg.score(x_test, y_test)"
   ]
  },
  {
   "cell_type": "markdown",
   "id": "f531e240",
   "metadata": {},
   "source": [
    "### Voting Classifier"
   ]
  },
  {
   "cell_type": "code",
   "execution_count": 11,
   "id": "dda4098f",
   "metadata": {},
   "outputs": [
    {
     "name": "stdout",
     "output_type": "stream",
     "text": [
      "CPU times: total: 2min 21s\n",
      "Wall time: 1min 7s\n"
     ]
    },
    {
     "data": {
      "text/plain": [
       "0.9293021753176826"
      ]
     },
     "execution_count": 11,
     "metadata": {},
     "output_type": "execute_result"
    }
   ],
   "source": [
    "# Fitting Hard Voting Classifier model\n",
    "\n",
    "hard_voting_clf = VotingClassifier(estimators=[\n",
    "    \n",
    "    ('svc_lin', LinearSVC(C = 10, dual = False)),\n",
    "    ('svc_rbf', SVC(kernel =  \"rbf\", gamma = 1)),\n",
    "    ('svc_poly', SVC(kernel = \"poly\", C = 10, degree = 1)),\n",
    "    ('knn_clf', KNeighborsClassifier(n_neighbors  = 10)),\n",
    "    ('log_reg', LogisticRegression(solver = 'lbfgs', max_iter = 1000))],\n",
    "                             voting='hard')\n",
    "\n",
    "# Return the mean accuracy on the given test data and labels.\n",
    "\n",
    "%time hard_voting_clf.fit(x_train, y_train)\n",
    "hard_voting_clf.score(x_test, y_test)"
   ]
  }
 ],
 "metadata": {
  "kernelspec": {
   "display_name": "Python 3 (ipykernel)",
   "language": "python",
   "name": "python3"
  },
  "language_info": {
   "codemirror_mode": {
    "name": "ipython",
    "version": 3
   },
   "file_extension": ".py",
   "mimetype": "text/x-python",
   "name": "python",
   "nbconvert_exporter": "python",
   "pygments_lexer": "ipython3",
   "version": "3.9.7"
  }
 },
 "nbformat": 4,
 "nbformat_minor": 5
}
